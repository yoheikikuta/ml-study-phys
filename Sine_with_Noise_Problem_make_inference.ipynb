{
 "cells": [
  {
   "cell_type": "code",
   "execution_count": 1,
   "metadata": {},
   "outputs": [
    {
     "name": "stderr",
     "output_type": "stream",
     "text": [
      "/usr/local/lib/python3.6/importlib/_bootstrap.py:219: RuntimeWarning: compiletime version 3.5 of module 'tensorflow.python.framework.fast_tensor_util' does not match runtime version 3.6\n",
      "  return f(*args, **kwds)\n"
     ]
    }
   ],
   "source": [
    "import numpy as np\n",
    "from sklearn.model_selection import train_test_split\n",
    "from sklearn.utils import shuffle\n",
    "import matplotlib.pyplot as plt\n",
    "import tensorflow as tf \n",
    "\n",
    "%matplotlib inline"
   ]
  },
  {
   "cell_type": "code",
   "execution_count": 2,
   "metadata": {},
   "outputs": [],
   "source": [
    "# import utils as ut\n",
    "# early_stopping = ut.EarlyStopping(patience=100, verbose=1)"
   ]
  },
  {
   "cell_type": "markdown",
   "metadata": {},
   "source": [
    "# 1a. Create Data for Toy Problem"
   ]
  },
  {
   "cell_type": "code",
   "execution_count": 3,
   "metadata": {},
   "outputs": [
    {
     "data": {
      "text/plain": [
       "[<matplotlib.lines.Line2D at 0x7fb2c69596a0>]"
      ]
     },
     "execution_count": 3,
     "metadata": {},
     "output_type": "execute_result"
    },
    {
     "data": {
      "image/png": "[encoded data removed]",
      "text/plain": [
       "<matplotlib.figure.Figure at 0x7fb2d7feb5c0>"
      ]
     },
     "metadata": {},
     "output_type": "display_data"
    }
   ],
   "source": [
    "seed_int=123\n",
    "\n",
    "rng = np.random.RandomState(seed_int)\n",
    "\n",
    "def sin(x, T=100):\n",
    "    return np.sin(2.0 * np.pi * x/T)\n",
    "\n",
    "def toy_problem(T=100, ampl=0.05):\n",
    "    x = np.arange(0, 2*T + 1)\n",
    "    noise = ampl*rng.uniform(low = -1.0, high = 1.0, size=len(x))\n",
    "    return sin(x) + noise\n",
    "\n",
    "T = 100\n",
    "f = toy_problem(T)\n",
    "plt.plot(f)"
   ]
  },
  {
   "cell_type": "markdown",
   "metadata": {},
   "source": [
    "# 1b. Prepare Input Data to Train the Model"
   ]
  },
  {
   "cell_type": "code",
   "execution_count": 4,
   "metadata": {},
   "outputs": [],
   "source": [
    "length_of_sequences = 2*T\n",
    "maxlen = 25\n",
    "data = []\n",
    "target = []\n",
    "\n",
    "for i in range(0, length_of_sequences - maxlen + 1):\n",
    "    data.append(f[i: i + maxlen])\n",
    "    target.append(f[i + maxlen])\n",
    "\n",
    "X = np.array(data).reshape(len(data), maxlen, 1)\n",
    "Y = np.array(target).reshape(len(data), 1)"
   ]
  },
  {
   "cell_type": "markdown",
   "metadata": {},
   "source": [
    "# 1b. Split Data into Training and Valdiation Set "
   ]
  },
  {
   "cell_type": "code",
   "execution_count": 5,
   "metadata": {},
   "outputs": [],
   "source": [
    "N_train = int(len(data) * 0.9)\n",
    "N_validation = len(data) - N_train\n",
    "X_train, X_validation, Y_train, Y_validation = \\\n",
    "train_test_split(X, Y, test_size=N_validation, random_state=seed_int)"
   ]
  },
  {
   "cell_type": "markdown",
   "metadata": {},
   "source": [
    "# 2a. Prepare Model Functions for Graph"
   ]
  },
  {
   "cell_type": "code",
   "execution_count": 6,
   "metadata": {},
   "outputs": [],
   "source": [
    "def weight_variable(shape, name=None):\n",
    "    initial = tf.truncated_normal(shape, stddev=0.01) # resample 2 sd vals\n",
    "    return tf.get_variable(name, dtype=tf.float32, initializer=initial)\n",
    "    \n",
    "def bias_variable(shape, name=None, init_fun=tf.zeros):\n",
    "    initial = init_fun(shape, dtype=tf.float32)\n",
    "    return tf.get_variable(name, dtype=tf.float32, initializer=initial)"
   ]
  },
  {
   "cell_type": "markdown",
   "metadata": {},
   "source": [
    "# 2b. Manual Inference Functions"
   ]
  },
  {
   "cell_type": "code",
   "execution_count": 7,
   "metadata": {},
   "outputs": [],
   "source": [
    "def infere_RNN(x, n_batch, maxlen=None, n_hidden=None, n_out=None, n_in=None):\n",
    "    #########################################################################\n",
    "    # Write an RNN that takes as input data a matrix x\n",
    "    # with shape=[n_batch, maxlen, n_in])\n",
    "    #########################################################################\n",
    "    \n",
    "    return y\n",
    "\n",
    "def infere_LSTM(x, n_batch, maxlen=None, n_hidden=None, n_out=None, \n",
    "                n_in=None):\n",
    "    #########################################################################\n",
    "    # Write an LSTM that takes as input data a matrix x\n",
    "    # with shape=[n_batch, maxlen, n_in])\n",
    "    #########################################################################\n",
    "    return y, [V, c]\n",
    "\n",
    "def infere_GRU(x, n_batch, maxlen=None, n_hidden=None, n_out=None, \n",
    "                n_in=None):\n",
    "    #########################################################################\n",
    "    # Write a GRU that takes as input data a matrix x\n",
    "    # with shape=[n_batch, maxlen, n_in])\n",
    "    #########################################################################\n",
    "    return y"
   ]
  },
  {
   "cell_type": "markdown",
   "metadata": {},
   "source": [
    "# 2c. Loss and training function"
   ]
  },
  {
   "cell_type": "code",
   "execution_count": 8,
   "metadata": {},
   "outputs": [],
   "source": [
    "def loss_fun(y, t):\n",
    "    mse = tf.reduce_mean(tf.square(y - t))\n",
    "    return mse\n",
    "\n",
    "def training(loss):\n",
    "    optimize = tf.train.AdamOptimizer(learning_rate = 0.001, beta1=0.9, beta2=0.999)\n",
    "    train_step = optimize.minimize(loss)\n",
    "    return train_step\n",
    "\n"
   ]
  },
  {
   "cell_type": "markdown",
   "metadata": {},
   "source": [
    "# 3. Define Graph"
   ]
  },
  {
   "cell_type": "code",
   "execution_count": 10,
   "metadata": {},
   "outputs": [
    {
     "ename": "NameError",
     "evalue": "name 'y' is not defined",
     "output_type": "error",
     "traceback": [
      "\u001b[0;31m\u001b[0m",
      "\u001b[0;31mNameError\u001b[0mTraceback (most recent call last)",
      "\u001b[0;32m<ipython-input-10-454652f85fb5>\u001b[0m in \u001b[0;36m<module>\u001b[0;34m()\u001b[0m\n\u001b[1;32m     12\u001b[0m \u001b[0;31m# TF Variables\u001b[0m\u001b[0;34m\u001b[0m\u001b[0;34m\u001b[0m\u001b[0m\n\u001b[1;32m     13\u001b[0m \u001b[0;31m#y = infere_mn(x, n_batch, maxlen=maxlen, n_hidden=n_hidden, n_out= n_out, n_in=n_in)\u001b[0m\u001b[0;34m\u001b[0m\u001b[0;34m\u001b[0m\u001b[0m\n\u001b[0;32m---> 14\u001b[0;31m \u001b[0my\u001b[0m\u001b[0;34m,\u001b[0m \u001b[0mcvars\u001b[0m \u001b[0;34m=\u001b[0m \u001b[0minfere_RNN\u001b[0m\u001b[0;34m(\u001b[0m\u001b[0mx\u001b[0m\u001b[0;34m,\u001b[0m \u001b[0mn_batch\u001b[0m\u001b[0;34m,\u001b[0m \u001b[0mmaxlen\u001b[0m\u001b[0;34m=\u001b[0m\u001b[0mmaxlen\u001b[0m\u001b[0;34m,\u001b[0m \u001b[0mn_hidden\u001b[0m\u001b[0;34m=\u001b[0m\u001b[0mn_hidden\u001b[0m\u001b[0;34m,\u001b[0m \u001b[0mn_out\u001b[0m\u001b[0;34m=\u001b[0m \u001b[0mn_out\u001b[0m\u001b[0;34m,\u001b[0m \u001b[0mn_in\u001b[0m\u001b[0;34m=\u001b[0m\u001b[0mn_in\u001b[0m\u001b[0;34m)\u001b[0m\u001b[0;34m\u001b[0m\u001b[0m\n\u001b[0m\u001b[1;32m     15\u001b[0m \u001b[0;31m# y, cvars = infere_LSTM(x, n_batch, maxlen=maxlen, n_hidden=n_hidden, n_out= n_out, n_in=n_in)\u001b[0m\u001b[0;34m\u001b[0m\u001b[0;34m\u001b[0m\u001b[0m\n\u001b[1;32m     16\u001b[0m \u001b[0mloss\u001b[0m \u001b[0;34m=\u001b[0m \u001b[0mloss_fun\u001b[0m\u001b[0;34m(\u001b[0m\u001b[0my\u001b[0m\u001b[0;34m,\u001b[0m \u001b[0mt\u001b[0m\u001b[0;34m)\u001b[0m\u001b[0;34m\u001b[0m\u001b[0m\n",
      "\u001b[0;32m<ipython-input-7-06399bfef8c3>\u001b[0m in \u001b[0;36minfere_RNN\u001b[0;34m(x, n_batch, maxlen, n_hidden, n_out, n_in)\u001b[0m\n\u001b[1;32m      4\u001b[0m     \u001b[0;31m# with shape=[n_batch, maxlen, n_in])\u001b[0m\u001b[0;34m\u001b[0m\u001b[0;34m\u001b[0m\u001b[0m\n\u001b[1;32m      5\u001b[0m     \u001b[0;31m#########################################################################\u001b[0m\u001b[0;34m\u001b[0m\u001b[0;34m\u001b[0m\u001b[0m\n\u001b[0;32m----> 6\u001b[0;31m     \u001b[0;32mreturn\u001b[0m \u001b[0my\u001b[0m\u001b[0;34m\u001b[0m\u001b[0m\n\u001b[0m\u001b[1;32m      7\u001b[0m \u001b[0;34m\u001b[0m\u001b[0m\n\u001b[1;32m      8\u001b[0m def infere_LSTM(x, n_batch, maxlen=None, n_hidden=None, n_out=None, \n",
      "\u001b[0;31mNameError\u001b[0m: name 'y' is not defined"
     ]
    }
   ],
   "source": [
    "tf.reset_default_graph()\n",
    "\n",
    "maxlen = 25\n",
    "n_hidden = 20\n",
    "n_out = 1\n",
    "n_in = 1\n",
    "\n",
    "x = tf.placeholder(tf.float32, shape=[None, maxlen, n_in])\n",
    "t = tf.placeholder(tf.float32, shape=[None, n_out])\n",
    "n_batch = tf.placeholder(tf.int32, [])\n",
    "\n",
    "# TF Variables\n",
    "#y = infere_mn(x, n_batch, maxlen=maxlen, n_hidden=n_hidden, n_out= n_out, n_in=n_in)\n",
    "y, cvars = infere_RNN(x, n_batch, maxlen=maxlen, n_hidden=n_hidden, n_out= n_out, n_in=n_in)\n",
    "# y, cvars = infere_LSTM(x, n_batch, maxlen=maxlen, n_hidden=n_hidden, n_out= n_out, n_in=n_in)\n",
    "loss = loss_fun(y, t)\n",
    "train_step = training(loss)\n"
   ]
  },
  {
   "cell_type": "markdown",
   "metadata": {},
   "source": [
    "# 4. Run Computational Graph"
   ]
  },
  {
   "cell_type": "code",
   "execution_count": null,
   "metadata": {},
   "outputs": [
    {
     "name": "stdout",
     "output_type": "stream",
     "text": [
      "epoch: 0  validation loss:  0.565263\n",
      "epoch: 1  validation loss:  0.502266\n",
      "epoch: 2  validation loss:  0.294118\n",
      "epoch: 3  validation loss:  0.318946\n",
      "epoch: 4  validation loss:  0.265462\n",
      "epoch: 5  validation loss:  0.25665\n",
      "epoch: 6  validation loss:  0.224483\n",
      "epoch: 7  validation loss:  0.204235\n",
      "epoch: 8  validation loss:  0.179147\n",
      "epoch: 9  validation loss:  0.160925\n",
      "epoch: 10  validation loss:  0.146261\n",
      "epoch: 11  validation loss:  0.131557\n",
      "epoch: 12  validation loss:  0.114974\n",
      "epoch: 13  validation loss:  0.101932\n",
      "epoch: 14  validation loss:  0.0908858\n",
      "epoch: 15  validation loss:  0.0812348\n",
      "epoch: 16  validation loss:  0.0729109\n",
      "epoch: 17  validation loss:  0.0656253\n",
      "epoch: 18  validation loss:  0.0591869\n",
      "epoch: 19  validation loss:  0.0534511\n",
      "epoch: 20  validation loss:  0.0482656\n",
      "epoch: 21  validation loss:  0.0435054\n",
      "epoch: 22  validation loss:  0.039062\n",
      "epoch: 23  validation loss:  0.0348332\n",
      "epoch: 24  validation loss:  0.0307255\n",
      "epoch: 25  validation loss:  0.0266558\n",
      "epoch: 26  validation loss:  0.0225569\n",
      "epoch: 27  validation loss:  0.0183974\n",
      "epoch: 28  validation loss:  0.0142202\n",
      "epoch: 29  validation loss:  0.0102022\n",
      "epoch: 30  validation loss:  0.00668997\n",
      "epoch: 31  validation loss:  0.00408537\n",
      "epoch: 32  validation loss:  0.00260515\n",
      "epoch: 33  validation loss:  0.00208269\n",
      "epoch: 34  validation loss:  0.00190892\n",
      "epoch: 35  validation loss:  0.00176579\n",
      "epoch: 36  validation loss:  0.00164761\n",
      "epoch: 37  validation loss:  0.00154586\n",
      "epoch: 38  validation loss:  0.00145766\n",
      "epoch: 39  validation loss:  0.00138229\n",
      "epoch: 40  validation loss:  0.00131734\n",
      "epoch: 41  validation loss:  0.00126082\n",
      "epoch: 42  validation loss:  0.00121159\n",
      "epoch: 43  validation loss:  0.00116888\n",
      "epoch: 44  validation loss:  0.00113194\n",
      "epoch: 45  validation loss:  0.00110003\n",
      "epoch: 46  validation loss:  0.00107248\n",
      "epoch: 47  validation loss:  0.00104874\n",
      "epoch: 48  validation loss:  0.00102832\n",
      "epoch: 49  validation loss:  0.00101078\n",
      "epoch: 50  validation loss:  0.000995739\n",
      "epoch: 51  validation loss:  0.000982873\n",
      "epoch: 52  validation loss:  0.000971888\n",
      "epoch: 53  validation loss:  0.000962534\n",
      "epoch: 54  validation loss:  0.000954589\n",
      "epoch: 55  validation loss:  0.000947862\n",
      "epoch: 56  validation loss:  0.000942189\n",
      "epoch: 57  validation loss:  0.000937423\n",
      "epoch: 58  validation loss:  0.000933436\n",
      "epoch: 59  validation loss:  0.000930121\n",
      "epoch: 60  validation loss:  0.000927381\n",
      "epoch: 61  validation loss:  0.000925134\n",
      "epoch: 62  validation loss:  0.000923306\n",
      "epoch: 63  validation loss:  0.000921835\n",
      "epoch: 64  validation loss:  0.000920662\n",
      "epoch: 65  validation loss:  0.000919743\n",
      "epoch: 66  validation loss:  0.000919034\n",
      "epoch: 67  validation loss:  0.000918499\n",
      "epoch: 68  validation loss:  0.000918104\n",
      "epoch: 69  validation loss:  0.000917824\n",
      "epoch: 70  validation loss:  0.000917636\n",
      "epoch: 71  validation loss:  0.000917517\n",
      "epoch: 72  validation loss:  0.000917451\n",
      "epoch: 73  validation loss:  0.000917423\n",
      "epoch: 74  validation loss:  0.00091742\n",
      "epoch: 75  validation loss:  0.000917433\n",
      "epoch: 76  validation loss:  0.00091745\n",
      "epoch: 77  validation loss:  0.000917467\n",
      "epoch: 78  validation loss:  0.000917476\n",
      "epoch: 79  validation loss:  0.000917472\n",
      "epoch: 80  validation loss:  0.000917451\n",
      "epoch: 81  validation loss:  0.000917413\n",
      "epoch: 82  validation loss:  0.000917353\n",
      "epoch: 83  validation loss:  0.000917273\n",
      "epoch: 84  validation loss:  0.000917165\n",
      "epoch: 85  validation loss:  0.000917036\n",
      "epoch: 86  validation loss:  0.000916881\n",
      "epoch: 87  validation loss:  0.000916701\n",
      "epoch: 88  validation loss:  0.000916499\n",
      "epoch: 89  validation loss:  0.000916274\n",
      "epoch: 90  validation loss:  0.000916026\n",
      "epoch: 91  validation loss:  0.000915756\n",
      "epoch: 92  validation loss:  0.000915468\n",
      "epoch: 93  validation loss:  0.000915161\n",
      "epoch: 94  validation loss:  0.000914834\n",
      "epoch: 95  validation loss:  0.000914486\n",
      "epoch: 96  validation loss:  0.000914129\n",
      "epoch: 97  validation loss:  0.000913755\n",
      "epoch: 98  validation loss:  0.000913368\n",
      "epoch: 99  validation loss:  0.000912967\n",
      "epoch: 100  validation loss:  0.000912554\n",
      "epoch: 101  validation loss:  0.000912132\n",
      "epoch: 102  validation loss:  0.000911701\n",
      "epoch: 103  validation loss:  0.00091126\n",
      "epoch: 104  validation loss:  0.000910814\n",
      "epoch: 105  validation loss:  0.000910358\n",
      "epoch: 106  validation loss:  0.000909897\n",
      "epoch: 107  validation loss:  0.000909431\n",
      "epoch: 108  validation loss:  0.000908959\n",
      "epoch: 109  validation loss:  0.000908481\n",
      "epoch: 110  validation loss:  0.000908004\n",
      "epoch: 111  validation loss:  0.000907521\n",
      "epoch: 112  validation loss:  0.000907034\n",
      "epoch: 113  validation loss:  0.000906547\n",
      "epoch: 114  validation loss:  0.000906058\n",
      "epoch: 115  validation loss:  0.000905567\n",
      "epoch: 116  validation loss:  0.000905075\n",
      "epoch: 117  validation loss:  0.000904583\n",
      "epoch: 118  validation loss:  0.000904089\n",
      "epoch: 119  validation loss:  0.000903593\n",
      "epoch: 120  validation loss:  0.000903099\n",
      "epoch: 121  validation loss:  0.000902604\n",
      "epoch: 122  validation loss:  0.000902108\n",
      "epoch: 123  validation loss:  0.000901614\n",
      "epoch: 124  validation loss:  0.00090112\n",
      "epoch: 125  validation loss:  0.000900626\n",
      "epoch: 126  validation loss:  0.000900133\n",
      "epoch: 127  validation loss:  0.00089964\n",
      "epoch: 128  validation loss:  0.000899147\n",
      "epoch: 129  validation loss:  0.000898654\n",
      "epoch: 130  validation loss:  0.000898163\n",
      "epoch: 131  validation loss:  0.000897671\n",
      "epoch: 132  validation loss:  0.000897182\n",
      "epoch: 133  validation loss:  0.000896691\n",
      "epoch: 134  validation loss:  0.000896199\n",
      "epoch: 135  validation loss:  0.000895712\n",
      "epoch: 136  validation loss:  0.000895222\n",
      "epoch: 137  validation loss:  0.000894734\n",
      "epoch: 138  validation loss:  0.000894246\n",
      "epoch: 139  validation loss:  0.000893758\n",
      "epoch: 140  validation loss:  0.000893271\n",
      "epoch: 141  validation loss:  0.000892784\n",
      "epoch: 142  validation loss:  0.000892297\n",
      "epoch: 143  validation loss:  0.00089181\n",
      "epoch: 144  validation loss:  0.000891322\n",
      "epoch: 145  validation loss:  0.000890835\n",
      "epoch: 146  validation loss:  0.000890348\n",
      "epoch: 147  validation loss:  0.00088986\n",
      "epoch: 148  validation loss:  0.000889372\n",
      "epoch: 149  validation loss:  0.000888884\n",
      "epoch: 150  validation loss:  0.000888396\n",
      "epoch: 151  validation loss:  0.000887907\n",
      "epoch: 152  validation loss:  0.000887417\n",
      "epoch: 153  validation loss:  0.000886926\n",
      "epoch: 154  validation loss:  0.000886436\n",
      "epoch: 155  validation loss:  0.000885943\n",
      "epoch: 156  validation loss:  0.00088545\n",
      "epoch: 157  validation loss:  0.000884958\n",
      "epoch: 158  validation loss:  0.000884464\n",
      "epoch: 159  validation loss:  0.000883967\n",
      "epoch: 160  validation loss:  0.00088347\n",
      "epoch: 161  validation loss:  0.000882974\n",
      "epoch: 162  validation loss:  0.000882474\n",
      "epoch: 163  validation loss:  0.000881973\n",
      "epoch: 164  validation loss:  0.000881472\n",
      "epoch: 165  validation loss:  0.000880968\n",
      "epoch: 166  validation loss:  0.000880464\n",
      "epoch: 167  validation loss:  0.000879959\n",
      "epoch: 168  validation loss:  0.000879451\n",
      "epoch: 169  validation loss:  0.000878941\n",
      "epoch: 170  validation loss:  0.00087843\n",
      "epoch: 171  validation loss:  0.000877917\n",
      "epoch: 172  validation loss:  0.000877404\n",
      "epoch: 173  validation loss:  0.000876888\n",
      "epoch: 174  validation loss:  0.000876371\n",
      "epoch: 175  validation loss:  0.000875849\n",
      "epoch: 176  validation loss:  0.00087533\n",
      "epoch: 177  validation loss:  0.000874806\n",
      "epoch: 178  validation loss:  0.000874281\n",
      "epoch: 179  validation loss:  0.000873754\n",
      "epoch: 180  validation loss:  0.000873225\n",
      "epoch: 181  validation loss:  0.000872694\n",
      "epoch: 182  validation loss:  0.000872162\n",
      "epoch: 183  validation loss:  0.000871627\n",
      "epoch: 184  validation loss:  0.000871091\n",
      "epoch: 185  validation loss:  0.000870554\n",
      "epoch: 186  validation loss:  0.000870014\n",
      "epoch: 187  validation loss:  0.000869472\n",
      "epoch: 188  validation loss:  0.000868928\n",
      "epoch: 189  validation loss:  0.000868383\n",
      "epoch: 190  validation loss:  0.000867836\n",
      "epoch: 191  validation loss:  0.000867286\n",
      "epoch: 192  validation loss:  0.000866737\n",
      "epoch: 193  validation loss:  0.000866186\n",
      "epoch: 194  validation loss:  0.000865633\n",
      "epoch: 195  validation loss:  0.000865079\n",
      "epoch: 196  validation loss:  0.000864524\n",
      "epoch: 197  validation loss:  0.000863967\n",
      "epoch: 198  validation loss:  0.000863411\n",
      "epoch: 199  validation loss:  0.000862852\n",
      "epoch: 200  validation loss:  0.000862292\n"
     ]
    },
    {
     "name": "stdout",
     "output_type": "stream",
     "text": [
      "epoch: 201  validation loss:  0.000861733\n",
      "epoch: 202  validation loss:  0.000861174\n",
      "epoch: 203  validation loss:  0.000860612\n",
      "epoch: 204  validation loss:  0.000860052\n",
      "epoch: 205  validation loss:  0.000859492\n",
      "epoch: 206  validation loss:  0.00085893\n",
      "epoch: 207  validation loss:  0.00085837\n",
      "epoch: 208  validation loss:  0.00085781\n",
      "epoch: 209  validation loss:  0.00085725\n",
      "epoch: 210  validation loss:  0.000856692\n",
      "epoch: 211  validation loss:  0.000856134\n",
      "epoch: 212  validation loss:  0.000855578\n",
      "epoch: 213  validation loss:  0.000855023\n",
      "epoch: 214  validation loss:  0.00085447\n",
      "epoch: 215  validation loss:  0.000853919\n",
      "epoch: 216  validation loss:  0.000853369\n",
      "epoch: 217  validation loss:  0.000852823\n",
      "epoch: 218  validation loss:  0.000852279\n",
      "epoch: 219  validation loss:  0.000851738\n",
      "epoch: 220  validation loss:  0.0008512\n",
      "epoch: 221  validation loss:  0.000850665\n",
      "epoch: 222  validation loss:  0.000850134\n",
      "epoch: 223  validation loss:  0.000849608\n",
      "epoch: 224  validation loss:  0.000849083\n",
      "epoch: 225  validation loss:  0.000848566\n",
      "epoch: 226  validation loss:  0.000848052\n",
      "epoch: 227  validation loss:  0.000847543\n",
      "epoch: 228  validation loss:  0.000847038\n",
      "epoch: 229  validation loss:  0.000846539\n",
      "epoch: 230  validation loss:  0.000846047\n",
      "epoch: 231  validation loss:  0.000845562\n",
      "epoch: 232  validation loss:  0.00084508\n",
      "epoch: 233  validation loss:  0.000844607\n",
      "epoch: 234  validation loss:  0.00084414\n",
      "epoch: 235  validation loss:  0.00084368\n",
      "epoch: 236  validation loss:  0.000843228\n",
      "epoch: 237  validation loss:  0.000842782\n",
      "epoch: 238  validation loss:  0.000842344\n",
      "epoch: 239  validation loss:  0.000841916\n",
      "epoch: 240  validation loss:  0.000841493\n",
      "epoch: 241  validation loss:  0.00084108\n",
      "epoch: 242  validation loss:  0.000840676\n",
      "epoch: 243  validation loss:  0.000840279\n",
      "epoch: 244  validation loss:  0.000839893\n",
      "epoch: 245  validation loss:  0.000839516\n",
      "epoch: 246  validation loss:  0.000839147\n",
      "epoch: 247  validation loss:  0.000838789\n",
      "epoch: 248  validation loss:  0.000838441\n",
      "epoch: 249  validation loss:  0.000838101\n",
      "epoch: 250  validation loss:  0.000837771\n",
      "epoch: 251  validation loss:  0.000837452\n",
      "epoch: 252  validation loss:  0.000837144\n",
      "epoch: 253  validation loss:  0.000836844\n",
      "epoch: 254  validation loss:  0.000836557\n",
      "epoch: 255  validation loss:  0.000836279\n",
      "epoch: 256  validation loss:  0.00083601\n",
      "epoch: 257  validation loss:  0.000835754\n",
      "epoch: 258  validation loss:  0.000835507\n",
      "epoch: 259  validation loss:  0.000835273\n",
      "epoch: 260  validation loss:  0.000835049\n",
      "epoch: 261  validation loss:  0.000834834\n",
      "epoch: 262  validation loss:  0.000834632\n",
      "epoch: 263  validation loss:  0.00083444\n",
      "epoch: 264  validation loss:  0.000834258\n",
      "epoch: 265  validation loss:  0.000834088\n",
      "epoch: 266  validation loss:  0.000833928\n",
      "epoch: 267  validation loss:  0.00083378\n",
      "epoch: 268  validation loss:  0.000833641\n",
      "epoch: 269  validation loss:  0.000833514\n",
      "epoch: 270  validation loss:  0.000833397\n",
      "epoch: 271  validation loss:  0.000833292\n",
      "epoch: 272  validation loss:  0.000833197\n",
      "epoch: 273  validation loss:  0.000833113\n",
      "epoch: 274  validation loss:  0.000833037\n",
      "epoch: 275  validation loss:  0.000832975\n",
      "epoch: 276  validation loss:  0.00083292\n",
      "epoch: 277  validation loss:  0.000832878\n",
      "epoch: 278  validation loss:  0.000832844\n",
      "epoch: 279  validation loss:  0.000832822\n",
      "epoch: 280  validation loss:  0.000832808\n",
      "epoch: 281  validation loss:  0.000832807\n",
      "epoch: 282  validation loss:  0.000832812\n",
      "epoch: 283  validation loss:  0.000832828\n",
      "epoch: 284  validation loss:  0.000832853\n",
      "epoch: 285  validation loss:  0.00083289\n",
      "epoch: 286  validation loss:  0.000832933\n",
      "epoch: 287  validation loss:  0.000832987\n",
      "epoch: 288  validation loss:  0.00083305\n",
      "epoch: 289  validation loss:  0.000833122\n",
      "epoch: 290  validation loss:  0.000833203\n"
     ]
    }
   ],
   "source": [
    "epochs = 300\n",
    "batch_size = 10\n",
    "\n",
    "tf.set_random_seed(seed_int)\n",
    "init = tf.global_variables_initializer()\n",
    "sess = tf.Session()\n",
    "sess.run(init)\n",
    "history= {'val_loss': []}\n",
    "n_batches = N_train // batch_size\n",
    "early_stopping = ut.EarlyStopping(patience=100, verbose=1)\n",
    "for epoch in range(epochs):\n",
    "    X_, Y_ = shuffle(X_train, Y_train, random_state = seed_int)\n",
    "    \n",
    "    for i in range(n_batches):\n",
    "        start = i*batch_size\n",
    "        end = start + batch_size\n",
    "        \n",
    "        sess.run(train_step, feed_dict={\n",
    "            x: X_[start:end],\n",
    "            t: Y_[start:end],\n",
    "            n_batch: batch_size\n",
    "        })\n",
    "    val_loss = loss.eval(session=sess, feed_dict={\n",
    "        x: X_validation,\n",
    "        t: Y_validation,\n",
    "        n_batch: N_validation\n",
    "    })\n",
    "    history['val_loss'].append(val_loss)\n",
    "    print('epoch:', epoch, ' validation loss: ', val_loss)\n",
    "    #Early Stopping\n",
    "    if early_stopping.validate(val_loss):\n",
    "        break"
   ]
  },
  {
   "cell_type": "markdown",
   "metadata": {},
   "source": [
    "# 5. Show Results"
   ]
  },
  {
   "cell_type": "code",
   "execution_count": 16,
   "metadata": {},
   "outputs": [
    {
     "data": {
      "image/png": "[encoded data removed]",
      "text/plain": [
       "<matplotlib.figure.Figure at 0x7fbe9a061be0>"
      ]
     },
     "metadata": {},
     "output_type": "display_data"
    }
   ],
   "source": [
    "truncate = maxlen\n",
    "Z = X[:1]\n",
    "original = [f[i] for i in range(maxlen)]\n",
    "predicted = [None for i in range(maxlen)]\n",
    "\n",
    "for i in range(length_of_sequences -maxlen +1):\n",
    "    z_ = Z[-1:]\n",
    "    y_ = y.eval(session=sess, feed_dict ={x: Z[-1:],\n",
    "                                          n_batch: 1})\n",
    "    sequence_ = np.concatenate((z_.reshape(maxlen, n_in)[1:], y_), axis=0)\\\n",
    "                               .reshape(1, maxlen, n_in)\n",
    "    Z = np.append(Z, sequence_, axis=0)\n",
    "    predicted.append(y_.reshape(-1))\n",
    "\n",
    "plt.rc('font', family='serif')\n",
    "plt.figure()\n",
    "plt.plot(toy_problem(T, ampl=0), linestyle='dotted', color='#aaaaaa')\n",
    "plt.plot(original, linestyle='dashed', color='black')\n",
    "plt.plot(predicted, color='black')\n",
    "plt.show()"
   ]
  },
  {
   "cell_type": "markdown",
   "metadata": {},
   "source": [
    "# 7. Inspect Variables"
   ]
  },
  {
   "cell_type": "markdown",
   "metadata": {},
   "source": [
    "#### What happened to the variables in RNN cell?"
   ]
  },
  {
   "cell_type": "code",
   "execution_count": 14,
   "metadata": {},
   "outputs": [
    {
     "name": "stdout",
     "output_type": "stream",
     "text": [
      "(20, 1)\n",
      "(1, 20)\n"
     ]
    }
   ],
   "source": [
    "    W = cvars[0].eval(session=sess)\n",
    "    bias = cvars[1].eval(session=sess)\n",
    "    print(W.shape) # Note that the first part is from the input x, the second part\n",
    "                   # From the hidden state\n",
    "    print(bias.shape)"
   ]
  },
  {
   "cell_type": "code",
   "execution_count": 15,
   "metadata": {},
   "outputs": [
    {
     "data": {
      "text/plain": [
       "[<tf.Variable 'RNN/U:0' shape=(1, 20) dtype=float32_ref>,\n",
       " <tf.Variable 'RNN/W:0' shape=(20, 20) dtype=float32_ref>,\n",
       " <tf.Variable 'RNN/b:0' shape=(20,) dtype=float32_ref>,\n",
       " <tf.Variable 'RNN/U/Adam:0' shape=(1, 20) dtype=float32_ref>,\n",
       " <tf.Variable 'RNN/U/Adam_1:0' shape=(1, 20) dtype=float32_ref>,\n",
       " <tf.Variable 'RNN/W/Adam:0' shape=(20, 20) dtype=float32_ref>,\n",
       " <tf.Variable 'RNN/W/Adam_1:0' shape=(20, 20) dtype=float32_ref>,\n",
       " <tf.Variable 'RNN/b/Adam:0' shape=(20,) dtype=float32_ref>,\n",
       " <tf.Variable 'RNN/b/Adam_1:0' shape=(20,) dtype=float32_ref>]"
      ]
     },
     "execution_count": 15,
     "metadata": {},
     "output_type": "execute_result"
    }
   ],
   "source": [
    "tf.get_collection(tf.GraphKeys.GLOBAL_VARIABLES, scope='RNN')"
   ]
  },
  {
   "cell_type": "code",
   "execution_count": 16,
   "metadata": {},
   "outputs": [
    {
     "data": {
      "text/plain": [
       "[<tf.Variable 'V:0' shape=(20, 1) dtype=float32_ref>,\n",
       " <tf.Variable 'c:0' shape=(1,) dtype=float32_ref>,\n",
       " <tf.Variable 'RNN/U:0' shape=(1, 20) dtype=float32_ref>,\n",
       " <tf.Variable 'RNN/W:0' shape=(20, 20) dtype=float32_ref>,\n",
       " <tf.Variable 'RNN/b:0' shape=(20,) dtype=float32_ref>,\n",
       " <tf.Variable 'beta1_power:0' shape=() dtype=float32_ref>,\n",
       " <tf.Variable 'beta2_power:0' shape=() dtype=float32_ref>,\n",
       " <tf.Variable 'V/Adam:0' shape=(20, 1) dtype=float32_ref>,\n",
       " <tf.Variable 'V/Adam_1:0' shape=(20, 1) dtype=float32_ref>,\n",
       " <tf.Variable 'c/Adam:0' shape=(1,) dtype=float32_ref>,\n",
       " <tf.Variable 'c/Adam_1:0' shape=(1,) dtype=float32_ref>,\n",
       " <tf.Variable 'RNN/U/Adam:0' shape=(1, 20) dtype=float32_ref>,\n",
       " <tf.Variable 'RNN/U/Adam_1:0' shape=(1, 20) dtype=float32_ref>,\n",
       " <tf.Variable 'RNN/W/Adam:0' shape=(20, 20) dtype=float32_ref>,\n",
       " <tf.Variable 'RNN/W/Adam_1:0' shape=(20, 20) dtype=float32_ref>,\n",
       " <tf.Variable 'RNN/b/Adam:0' shape=(20,) dtype=float32_ref>,\n",
       " <tf.Variable 'RNN/b/Adam_1:0' shape=(20,) dtype=float32_ref>]"
      ]
     },
     "execution_count": 16,
     "metadata": {},
     "output_type": "execute_result"
    }
   ],
   "source": [
    "tf.get_collection(tf.GraphKeys.GLOBAL_VARIABLES)"
   ]
  },
  {
   "cell_type": "code",
   "execution_count": null,
   "metadata": {},
   "outputs": [],
   "source": []
  }
 ],
 "metadata": {
  "kernelspec": {
   "display_name": "Python 3",
   "language": "python",
   "name": "python3"
  },
  "language_info": {
   "codemirror_mode": {
    "name": "ipython",
    "version": 3
   },
   "file_extension": ".py",
   "mimetype": "text/x-python",
   "name": "python",
   "nbconvert_exporter": "python",
   "pygments_lexer": "ipython3",
   "version": "3.6.3"
  }
 },
 "nbformat": 4,
 "nbformat_minor": 2
}
